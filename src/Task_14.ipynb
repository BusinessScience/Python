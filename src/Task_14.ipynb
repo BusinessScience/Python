{
 "cells": [
  {
   "metadata": {
    "ExecuteTime": {
     "end_time": "2025-05-26T18:55:41.435056Z",
     "start_time": "2025-05-26T18:55:38.936665Z"
    }
   },
   "cell_type": "code",
   "source": "!pip install mysql-connector-python",
   "id": "f60595e3e30dbf53",
   "outputs": [
    {
     "name": "stdout",
     "output_type": "stream",
     "text": [
      "Requirement already satisfied: mysql-connector-python in c:\\users\\lenovo\\desktop\\python_boot\\projekty\\.venv\\lib\\site-packages (9.3.0)\n"
     ]
    }
   ],
   "execution_count": 5
  },
  {
   "metadata": {
    "ExecuteTime": {
     "end_time": "2025-05-26T18:04:18.875336Z",
     "start_time": "2025-05-26T18:04:16.922886Z"
    }
   },
   "cell_type": "code",
   "source": "!pip list",
   "id": "ffde9cafaeb08ba2",
   "outputs": [
    {
     "name": "stdout",
     "output_type": "stream",
     "text": [
      "Package                   Version\n",
      "------------------------- --------------\n",
      "anyio                     4.9.0\n",
      "argon2-cffi               23.1.0\n",
      "argon2-cffi-bindings      21.2.0\n",
      "arrow                     1.3.0\n",
      "asttokens                 3.0.0\n",
      "async-lru                 2.0.5\n",
      "attrs                     25.3.0\n",
      "babel                     2.17.0\n",
      "beautifulsoup4            4.13.4\n",
      "bleach                    6.2.0\n",
      "blinker                   1.9.0\n",
      "certifi                   2025.4.26\n",
      "cffi                      1.17.1\n",
      "charset-normalizer        3.4.2\n",
      "click                     8.1.8\n",
      "colorama                  0.4.6\n",
      "comm                      0.2.2\n",
      "contourpy                 1.3.2\n",
      "cycler                    0.12.1\n",
      "debugpy                   1.8.14\n",
      "decorator                 5.2.1\n",
      "defusedxml                0.7.1\n",
      "distlib                   0.3.9\n",
      "executing                 2.2.0\n",
      "fastjsonschema            2.21.1\n",
      "filelock                  3.18.0\n",
      "Flask                     3.1.0\n",
      "fonttools                 4.57.0\n",
      "fqdn                      1.5.1\n",
      "h11                       0.16.0\n",
      "httpcore                  1.0.9\n",
      "httpx                     0.28.1\n",
      "idna                      3.10\n",
      "ipykernel                 6.29.5\n",
      "ipython                   9.2.0\n",
      "ipython_pygments_lexers   1.1.1\n",
      "isoduration               20.11.0\n",
      "itsdangerous              2.2.0\n",
      "jedi                      0.19.2\n",
      "Jinja2                    3.1.6\n",
      "json5                     0.12.0\n",
      "jsonpointer               3.0.0\n",
      "jsonschema                4.23.0\n",
      "jsonschema-specifications 2025.4.1\n",
      "jupyter_client            8.6.3\n",
      "jupyter_core              5.7.2\n",
      "jupyter-events            0.12.0\n",
      "jupyter-lsp               2.2.5\n",
      "jupyter_server            2.16.0\n",
      "jupyter_server_terminals  0.5.3\n",
      "jupyterlab                4.4.2\n",
      "jupyterlab_pygments       0.3.0\n",
      "jupyterlab_server         2.27.3\n",
      "kiwisolver                1.4.8\n",
      "MarkupSafe                3.0.2\n",
      "matplotlib                3.10.1\n",
      "matplotlib-inline         0.1.7\n",
      "mistune                   3.1.3\n",
      "mysql-connector-python    9.3.0\n",
      "nbclient                  0.10.2\n",
      "nbconvert                 7.16.6\n",
      "nbformat                  5.10.4\n",
      "nest-asyncio              1.6.0\n",
      "notebook                  7.4.2\n",
      "notebook_shim             0.2.4\n",
      "numpy                     2.2.5\n",
      "overrides                 7.7.0\n",
      "packaging                 25.0\n",
      "pandocfilters             1.5.1\n",
      "parso                     0.8.4\n",
      "pillow                    11.2.1\n",
      "pip                       25.1.1\n",
      "platformdirs              4.3.8\n",
      "prometheus_client         0.21.1\n",
      "prompt_toolkit            3.0.51\n",
      "psutil                    7.0.0\n",
      "pure_eval                 0.2.3\n",
      "pycparser                 2.22\n",
      "Pygments                  2.19.1\n",
      "pyparsing                 3.2.3\n",
      "python-dateutil           2.9.0.post0\n",
      "python-json-logger        3.3.0\n",
      "pywin32                   310\n",
      "pywinpty                  2.0.15\n",
      "PyYAML                    6.0.2\n",
      "pyzmq                     26.4.0\n",
      "referencing               0.36.2\n",
      "requests                  2.32.3\n",
      "rfc3339-validator         0.1.4\n",
      "rfc3986-validator         0.1.1\n",
      "rpds-py                   0.24.0\n",
      "Send2Trash                1.8.3\n",
      "setuptools                80.4.0\n",
      "six                       1.17.0\n",
      "sniffio                   1.3.1\n",
      "soupsieve                 2.7\n",
      "stack-data                0.6.3\n",
      "terminado                 0.18.1\n",
      "tinycss2                  1.4.0\n",
      "tornado                   6.4.2\n",
      "traitlets                 5.14.3\n",
      "types-python-dateutil     2.9.0.20241206\n",
      "typing_extensions         4.13.2\n",
      "uri-template              1.3.0\n",
      "urllib3                   2.4.0\n",
      "virtualenv                20.31.2\n",
      "wcwidth                   0.2.13\n",
      "webcolors                 24.11.1\n",
      "webencodings              0.5.1\n",
      "websocket-client          1.8.0\n",
      "Werkzeug                  3.1.3\n"
     ]
    }
   ],
   "execution_count": 2
  },
  {
   "metadata": {
    "ExecuteTime": {
     "end_time": "2025-05-26T18:55:48.943942Z",
     "start_time": "2025-05-26T18:55:48.937927Z"
    }
   },
   "cell_type": "code",
   "source": "import mysql.connector",
   "id": "7f01f9348d316484",
   "outputs": [],
   "execution_count": 6
  },
  {
   "metadata": {
    "ExecuteTime": {
     "end_time": "2025-05-26T18:55:56.186131Z",
     "start_time": "2025-05-26T18:55:56.100294Z"
    }
   },
   "cell_type": "code",
   "source": "mydb = mysql.connector.connect(host=\"localhost\", port=3306, user=\"root\", password=\"root\", connection_timeout=5, auth_plugin='mysql_native_password', ssl_disabled=True, use_pure=True)",
   "id": "91df3fc774637030",
   "outputs": [],
   "execution_count": 7
  },
  {
   "metadata": {
    "jupyter": {
     "is_executing": true
    },
    "ExecuteTime": {
     "end_time": "2025-05-26T18:52:02.616350200Z",
     "start_time": "2025-05-26T18:51:24.754404Z"
    }
   },
   "cell_type": "code",
   "source": [
    "import mysql.connector\n",
    "print(\"📡 Start testu...\")\n",
    "\n",
    "try:\n",
    "    print(\"🔌 Przed connect()\")\n",
    "    mydb = mysql.connector.connect(\n",
    "        host=\"127.0.0.1\",\n",
    "        port=3306,\n",
    "        user=\"root\",\n",
    "        password=\"root\",\n",
    "        connection_timeout=5,\n",
    "    )\n",
    "    print(\"✅ Połączono!\")\n",
    "except mysql.connector.Error as err:\n",
    "    print(\"❌ Błąd MySQL:\", err)\n",
    "except Exception as e:\n",
    "    print(\"❌ Inny błąd:\", e)"
   ],
   "id": "aa4456c8b0f28911",
   "outputs": [
    {
     "name": "stdout",
     "output_type": "stream",
     "text": [
      "📡 Start testu...\n",
      "🔌 Przed connect()\n"
     ]
    }
   ],
   "execution_count": null
  },
  {
   "metadata": {
    "ExecuteTime": {
     "end_time": "2025-05-26T18:47:00.993548Z",
     "start_time": "2025-05-26T18:47:00.972539Z"
    }
   },
   "cell_type": "code",
   "source": [
    "import socket\n",
    "\n",
    "try:\n",
    "    s = socket.create_connection((\"127.0.0.1\", 3306), timeout=5)\n",
    "    print(\"✅ TCP połączenie do MySQL działa\")\n",
    "except Exception as e:\n",
    "    print(\"❌ Błąd TCP:\", e)\n"
   ],
   "id": "34d3c7084fff3a2b",
   "outputs": [
    {
     "name": "stdout",
     "output_type": "stream",
     "text": [
      "✅ TCP połączenie do MySQL działa\n"
     ]
    }
   ],
   "execution_count": 1
  },
  {
   "metadata": {
    "ExecuteTime": {
     "end_time": "2025-05-26T18:47:49.601866Z",
     "start_time": "2025-05-26T18:47:49.593135Z"
    }
   },
   "cell_type": "code",
   "source": "print(mysql.connector.__version__)",
   "id": "197c27694300c521",
   "outputs": [
    {
     "name": "stdout",
     "output_type": "stream",
     "text": [
      "9.3.0\n"
     ]
    }
   ],
   "execution_count": 4
  },
  {
   "metadata": {
    "ExecuteTime": {
     "end_time": "2025-05-26T18:44:20.235217Z",
     "start_time": "2025-05-26T18:44:20.223803Z"
    }
   },
   "cell_type": "code",
   "source": [
    "import socket\n",
    "print(socket.gethostbyname(\"localhost\"))"
   ],
   "id": "dc08fddd0e2ac3fe",
   "outputs": [
    {
     "name": "stdout",
     "output_type": "stream",
     "text": [
      "127.0.0.1\n"
     ]
    }
   ],
   "execution_count": 1
  },
  {
   "metadata": {
    "ExecuteTime": {
     "end_time": "2025-05-26T18:44:53.443699Z",
     "start_time": "2025-05-26T18:44:53.434968Z"
    }
   },
   "cell_type": "code",
   "source": [
    "import socket\n",
    "\n",
    "try:\n",
    "    s = socket.create_connection((\"127.0.0.1\", 3306), timeout=5)\n",
    "    print(\"✅ Udało się połączyć z MySQL przez TCP (port 3306)\")\n",
    "except Exception as e:\n",
    "    print(\"❌ Nie udało się połączyć:\", e)\n"
   ],
   "id": "645541be3a0eff9e",
   "outputs": [
    {
     "name": "stdout",
     "output_type": "stream",
     "text": [
      "✅ Udało się połączyć z MySQL przez TCP (port 3306)\n"
     ]
    }
   ],
   "execution_count": 2
  },
  {
   "metadata": {
    "ExecuteTime": {
     "end_time": "2025-05-26T18:40:29.201464Z",
     "start_time": "2025-05-26T18:40:29.082832Z"
    }
   },
   "cell_type": "code",
   "source": [
    "import mysql.connector\n",
    "import socket\n",
    "\n",
    "print(\"✅ Moduł mysql.connector zaimportowany\")\n",
    "print(\"🔍 Testuję DNS i TCP...\")\n",
    "\n",
    "try:\n",
    "    s = socket.create_connection((\"127.0.0.1\", 3306), timeout=5)\n",
    "    print(\"✅ Port 3306 na 127.0.0.1 jest dostępny\")\n",
    "except Exception as e:\n",
    "    print(\"❌ Nie można połączyć się z MySQL:\", e)\n"
   ],
   "id": "3d3c71e4956d726c",
   "outputs": [
    {
     "name": "stdout",
     "output_type": "stream",
     "text": [
      "✅ Moduł mysql.connector zaimportowany\n",
      "🔍 Testuję DNS i TCP...\n",
      "✅ Port 3306 na 127.0.0.1 jest dostępny\n"
     ]
    }
   ],
   "execution_count": 1
  },
  {
   "metadata": {
    "ExecuteTime": {
     "end_time": "2025-05-26T18:56:19.666398Z",
     "start_time": "2025-05-26T18:56:19.644276Z"
    }
   },
   "cell_type": "code",
   "source": [
    "my_cursor=mydb.cursor()\n",
    "my_cursor.execute(\"create database mydatabase\")"
   ],
   "id": "bb7fe9d8109604d4",
   "outputs": [],
   "execution_count": 8
  },
  {
   "metadata": {
    "ExecuteTime": {
     "end_time": "2025-05-26T19:04:12.913659Z",
     "start_time": "2025-05-26T19:04:12.904247Z"
    }
   },
   "cell_type": "code",
   "source": "my_cursor.execute(\"show databases\")",
   "id": "d9e73f1b585a1956",
   "outputs": [],
   "execution_count": 12
  },
  {
   "metadata": {
    "ExecuteTime": {
     "end_time": "2025-05-26T19:04:32.905752Z",
     "start_time": "2025-05-26T19:04:32.899292Z"
    }
   },
   "cell_type": "code",
   "source": [
    "for i in my_cursor:\n",
    "    print(i)"
   ],
   "id": "d3c55a8a3847c99",
   "outputs": [
    {
     "name": "stdout",
     "output_type": "stream",
     "text": [
      "('information_schema',)\n",
      "('ludziska',)\n",
      "('mydatabase',)\n",
      "('mysql',)\n",
      "('performance_schema',)\n",
      "('sakila',)\n",
      "('sys',)\n",
      "('world',)\n"
     ]
    }
   ],
   "execution_count": 13
  },
  {
   "metadata": {
    "ExecuteTime": {
     "end_time": "2025-05-26T19:05:39.862516Z",
     "start_time": "2025-05-26T19:05:39.855532Z"
    }
   },
   "cell_type": "code",
   "source": "my_cursor.execute(\"use mydatabase\")",
   "id": "a4dd8d240f76957c",
   "outputs": [],
   "execution_count": 14
  },
  {
   "metadata": {
    "ExecuteTime": {
     "end_time": "2025-05-26T19:05:44.507040Z",
     "start_time": "2025-05-26T19:05:44.498801Z"
    }
   },
   "cell_type": "code",
   "source": "my_cursor.execute(\"show tables\")",
   "id": "a79a42792532800b",
   "outputs": [],
   "execution_count": 15
  },
  {
   "metadata": {
    "jupyter": {
     "is_executing": true
    },
    "ExecuteTime": {
     "end_time": "2025-05-20T19:09:37.859229100Z",
     "start_time": "2025-05-20T19:07:20.403658Z"
    }
   },
   "cell_type": "code",
   "source": "",
   "id": "a46ce369828a97e",
   "outputs": [],
   "execution_count": null
  },
  {
   "metadata": {
    "ExecuteTime": {
     "end_time": "2025-05-20T18:26:29.094764Z",
     "start_time": "2025-05-20T18:26:29.064470Z"
    }
   },
   "cell_type": "code",
   "source": "",
   "id": "8a72c75775cbeaa4",
   "outputs": [],
   "execution_count": null
  },
  {
   "metadata": {
    "ExecuteTime": {
     "end_time": "2025-05-20T18:26:29.224641Z",
     "start_time": "2025-05-20T18:26:29.215777Z"
    }
   },
   "cell_type": "code",
   "source": "",
   "id": "f9f718de54f65a6c",
   "outputs": [],
   "execution_count": null
  },
  {
   "metadata": {
    "ExecuteTime": {
     "end_time": "2025-05-20T18:26:29.581704Z",
     "start_time": "2025-05-20T18:26:29.574350Z"
    }
   },
   "cell_type": "code",
   "source": "",
   "id": "afd80c735e9ac411",
   "outputs": [],
   "execution_count": null
  },
  {
   "metadata": {
    "ExecuteTime": {
     "end_time": "2025-05-20T18:26:29.827903Z",
     "start_time": "2025-05-20T18:26:29.820242Z"
    }
   },
   "cell_type": "code",
   "source": "",
   "id": "ace39c990adc47ee",
   "outputs": [],
   "execution_count": null
  },
  {
   "metadata": {},
   "cell_type": "code",
   "source": "",
   "id": "6d6463c2ea40ac1d",
   "outputs": [],
   "execution_count": null
  },
  {
   "metadata": {
    "ExecuteTime": {
     "end_time": "2025-05-20T18:26:30.531700Z",
     "start_time": "2025-05-20T18:26:30.441570Z"
    }
   },
   "cell_type": "code",
   "source": "",
   "id": "761e9602b0bf4372",
   "outputs": [],
   "execution_count": null
  },
  {
   "metadata": {
    "ExecuteTime": {
     "end_time": "2025-05-20T18:26:30.738094Z",
     "start_time": "2025-05-20T18:26:30.727675Z"
    }
   },
   "cell_type": "code",
   "source": "",
   "id": "88f9dd154109878a",
   "outputs": [],
   "execution_count": null
  },
  {
   "metadata": {
    "ExecuteTime": {
     "end_time": "2025-05-20T18:26:30.916917Z",
     "start_time": "2025-05-20T18:26:30.912659Z"
    }
   },
   "cell_type": "code",
   "source": "",
   "id": "98e62cf532892c47",
   "outputs": [],
   "execution_count": null
  },
  {
   "metadata": {
    "ExecuteTime": {
     "end_time": "2025-05-20T18:26:31.207152Z",
     "start_time": "2025-05-20T18:26:31.183255Z"
    }
   },
   "cell_type": "code",
   "source": "",
   "id": "23993fd9f8eca970",
   "outputs": [],
   "execution_count": null
  },
  {
   "metadata": {
    "ExecuteTime": {
     "end_time": "2025-05-20T18:26:31.492937Z",
     "start_time": "2025-05-20T18:26:31.488852Z"
    }
   },
   "cell_type": "code",
   "source": "",
   "id": "7146ba5a9df86b5b",
   "outputs": [],
   "execution_count": null
  },
  {
   "metadata": {
    "ExecuteTime": {
     "end_time": "2025-05-20T18:26:31.730642Z",
     "start_time": "2025-05-20T18:26:31.726288Z"
    }
   },
   "cell_type": "code",
   "source": "",
   "id": "b88ab03e4b6e1e62",
   "outputs": [],
   "execution_count": null
  },
  {
   "metadata": {
    "ExecuteTime": {
     "end_time": "2025-05-20T18:26:31.939035Z",
     "start_time": "2025-05-20T18:26:31.917857Z"
    }
   },
   "cell_type": "code",
   "source": "",
   "id": "bd2dc8d71547cd02",
   "outputs": [],
   "execution_count": null
  },
  {
   "metadata": {
    "ExecuteTime": {
     "end_time": "2025-05-20T18:26:32.185152Z",
     "start_time": "2025-05-20T18:26:32.179597Z"
    }
   },
   "cell_type": "code",
   "source": "",
   "id": "3572cb8c6d555b5c",
   "outputs": [],
   "execution_count": null
  },
  {
   "metadata": {
    "ExecuteTime": {
     "end_time": "2025-05-20T18:26:32.315300Z",
     "start_time": "2025-05-20T18:26:32.310678Z"
    }
   },
   "cell_type": "code",
   "source": "",
   "id": "810dce485ec43703",
   "outputs": [],
   "execution_count": null
  },
  {
   "metadata": {
    "ExecuteTime": {
     "end_time": "2025-05-20T18:26:32.694585Z",
     "start_time": "2025-05-20T18:26:32.682858Z"
    }
   },
   "cell_type": "code",
   "source": "",
   "id": "ee1483089b59a8c3",
   "outputs": [],
   "execution_count": null
  },
  {
   "metadata": {
    "ExecuteTime": {
     "end_time": "2025-05-20T18:26:32.870441Z",
     "start_time": "2025-05-20T18:26:32.855182Z"
    }
   },
   "cell_type": "code",
   "source": "",
   "id": "8146bc9f06c60d87",
   "outputs": [],
   "execution_count": null
  },
  {
   "metadata": {
    "ExecuteTime": {
     "end_time": "2025-05-20T18:26:33.088156Z",
     "start_time": "2025-05-20T18:26:33.044555Z"
    }
   },
   "cell_type": "code",
   "source": "",
   "id": "3ab77f27ee84d1f0",
   "outputs": [],
   "execution_count": null
  },
  {
   "metadata": {
    "ExecuteTime": {
     "end_time": "2025-05-20T18:26:33.208644Z",
     "start_time": "2025-05-20T18:26:33.187690Z"
    }
   },
   "cell_type": "code",
   "source": "",
   "id": "34941ddef9cf8926",
   "outputs": [],
   "execution_count": null
  },
  {
   "metadata": {
    "ExecuteTime": {
     "end_time": "2025-05-20T18:26:33.308024Z",
     "start_time": "2025-05-20T18:26:33.299784Z"
    }
   },
   "cell_type": "code",
   "source": "",
   "id": "9afc8bfc8caa95ab",
   "outputs": [],
   "execution_count": null
  },
  {
   "metadata": {},
   "cell_type": "code",
   "outputs": [],
   "execution_count": null,
   "source": "",
   "id": "44ee1de18372d46e"
  }
 ],
 "metadata": {
  "kernelspec": {
   "name": "python3",
   "language": "python",
   "display_name": "Python 3 (ipykernel)"
  }
 },
 "nbformat": 4,
 "nbformat_minor": 5
}
